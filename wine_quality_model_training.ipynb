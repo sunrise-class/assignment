{
 "cells": [
  {
   "cell_type": "code",
   "id": "initial_id",
   "metadata": {
    "collapsed": true,
    "ExecuteTime": {
     "end_time": "2025-05-11T08:52:54.844040Z",
     "start_time": "2025-05-11T08:52:54.840236Z"
    }
   },
   "source": [
    "from sklearn.datasets import load_wine\n",
    "from sklearn.model_selection import train_test_split\n",
    "from sklearn.ensemble import RandomForestRegressor\n",
    "from sklearn.linear_model import LogisticRegression\n",
    "from sklearn.svm import SVC\n",
    "from sklearn.metrics import (\n",
    "    accuracy_score, precision_score, recall_score, f1_score,\n",
    "    mean_squared_error, r2_score\n",
    ")\n",
    "from sklearn.preprocessing import StandardScaler"
   ],
   "outputs": [],
   "execution_count": 22
  },
  {
   "metadata": {
    "ExecuteTime": {
     "end_time": "2025-05-11T08:52:54.949487Z",
     "start_time": "2025-05-11T08:52:54.880698Z"
    }
   },
   "cell_type": "code",
   "source": [
    "\n",
    "# Load wine dataset\n",
    "data = load_wine()\n",
    "X = data.data\n",
    "y = data.target\n",
    "\n",
    "# Scale features for better performance\n",
    "scaler = StandardScaler()\n",
    "X = scaler.fit_transform(X)\n",
    "\n",
    "# Split the dataset into training and testing sets (80/20)\n",
    "X_train, X_test, y_train, y_test = train_test_split(X, y, test_size=0.2, random_state=42)\n",
    "\n",
    "# Classification models: Logistic Regression and SVM\n",
    "log_model = LogisticRegression(max_iter=1000, random_state=42)\n",
    "svm_model = SVC(random_state=42)\n",
    "\n",
    "# Train the models\n",
    "log_model.fit(X_train, y_train)\n",
    "svm_model.fit(X_train, y_train)\n",
    "\n",
    "# Predictions\n",
    "y_pred_log = log_model.predict(X_test)\n",
    "y_pred_svm = svm_model.predict(X_test)\n",
    "\n",
    "# Classification metrics\n",
    "print(\"=== Logistic Regression (Classification) ===\")\n",
    "print(\"Accuracy:\", accuracy_score(y_test, y_pred_log))\n",
    "print(\"Precision:\", precision_score(y_test, y_pred_log, average='weighted'))\n",
    "print(\"Recall:\", recall_score(y_test, y_pred_log, average='weighted'))\n",
    "print(\"F1 Score:\", f1_score(y_test, y_pred_log, average='weighted'))\n",
    "\n",
    "print(\"\\n=== SVM Classifier ===\")\n",
    "print(\"Accuracy:\", accuracy_score(y_test, y_pred_svm))\n",
    "print(\"Precision:\", precision_score(y_test, y_pred_svm, average='weighted'))\n",
    "print(\"Recall:\", recall_score(y_test, y_pred_svm, average='weighted'))\n",
    "print(\"F1 Score:\", f1_score(y_test, y_pred_svm, average='weighted'))\n",
    "\n",
    "# Random Forest Regressor (For the sake of example, we'll convert target into continuous)\n",
    "# In practice, you might use a regression dataset, but we'll treat the classification target as a regression for demonstration\n",
    "# We will use `y` as continuous values for this case\n",
    "\n",
    "rf_model = RandomForestRegressor(random_state=42)\n",
    "rf_model.fit(X_train, y_train)\n",
    "y_pred_rf = rf_model.predict(X_test)\n",
    "\n",
    "# Regression metrics (Note: Since `y` is categorical, results might not be ideal for regression)\n",
    "print(\"\\n=== Random Forest Regressor ===\")\n",
    "print(\"MSE:\", mean_squared_error(y_test, y_pred_rf))\n",
    "print(\"R² Score:\", r2_score(y_test, y_pred_rf))"
   ],
   "id": "29798c23ed058b2e",
   "outputs": [
    {
     "name": "stdout",
     "output_type": "stream",
     "text": [
      "=== Logistic Regression (Classification) ===\n",
      "Accuracy: 1.0\n",
      "Precision: 1.0\n",
      "Recall: 1.0\n",
      "F1 Score: 1.0\n",
      "\n",
      "=== SVM Classifier ===\n",
      "Accuracy: 1.0\n",
      "Precision: 1.0\n",
      "Recall: 1.0\n",
      "F1 Score: 1.0\n",
      "\n",
      "=== Random Forest Regressor ===\n",
      "MSE: 0.064825\n",
      "R² Score: 0.8888714285714285\n"
     ]
    }
   ],
   "execution_count": 23
  },
  {
   "metadata": {
    "ExecuteTime": {
     "end_time": "2025-05-11T08:52:54.955531Z",
     "start_time": "2025-05-11T08:52:54.953958Z"
    }
   },
   "cell_type": "code",
   "source": "",
   "id": "c86df84dde1b9481",
   "outputs": [],
   "execution_count": null
  }
 ],
 "metadata": {
  "kernelspec": {
   "display_name": "Python [conda env:base] *",
   "language": "python",
   "name": "conda-base-py"
  },
  "language_info": {
   "codemirror_mode": {
    "name": "ipython",
    "version": 2
   },
   "file_extension": ".py",
   "mimetype": "text/x-python",
   "name": "python",
   "nbconvert_exporter": "python",
   "pygments_lexer": "ipython2",
   "version": "2.7.6"
  }
 },
 "nbformat": 4,
 "nbformat_minor": 5
}
